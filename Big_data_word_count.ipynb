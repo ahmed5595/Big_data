{
 "cells": [
  {
   "cell_type": "code",
   "execution_count": 1,
   "metadata": {},
   "outputs": [],
   "source": [
    "import pyspark"
   ]
  },
  {
   "cell_type": "code",
   "execution_count": 2,
   "metadata": {},
   "outputs": [],
   "source": [
    "sc = pyspark.SparkContext('local[*]')\n"
   ]
  },
  {
   "cell_type": "code",
   "execution_count": 3,
   "metadata": {},
   "outputs": [
    {
     "name": "stdout",
     "output_type": "stream",
     "text": [
      "5\n"
     ]
    }
   ],
   "source": [
    "txt = sc.textFile('text.txt')\n",
    "print(txt.count())"
   ]
  },
  {
   "cell_type": "code",
   "execution_count": 4,
   "metadata": {},
   "outputs": [
    {
     "data": {
      "text/plain": [
       "['twinkle',\n",
       " 'twinkle',\n",
       " 'little',\n",
       " 'star',\n",
       " 'how',\n",
       " 'I',\n",
       " 'wonder',\n",
       " 'what',\n",
       " 'you',\n",
       " 'are',\n",
       " 'up',\n",
       " 'above',\n",
       " 'the',\n",
       " 'world',\n",
       " 'so',\n",
       " 'high',\n",
       " 'like',\n",
       " 'a',\n",
       " 'diamond',\n",
       " 'in',\n",
       " 'the',\n",
       " 'sky',\n",
       " 'twinkle',\n",
       " 'twinkle',\n",
       " 'little',\n",
       " 'star']"
      ]
     },
     "execution_count": 4,
     "metadata": {},
     "output_type": "execute_result"
    }
   ],
   "source": [
    "words=txt.flatMap(lambda line: line.split(\" \"))\n",
    "words.collect()"
   ]
  },
  {
   "cell_type": "code",
   "execution_count": 5,
   "metadata": {},
   "outputs": [
    {
     "data": {
      "text/plain": [
       "[('twinkle', 4),\n",
       " ('wonder', 1),\n",
       " ('are', 1),\n",
       " ('above', 1),\n",
       " ('world', 1),\n",
       " ('high', 1),\n",
       " ('like', 1),\n",
       " ('in', 1),\n",
       " ('sky', 1),\n",
       " ('little', 2),\n",
       " ('star', 2),\n",
       " ('how', 1),\n",
       " ('I', 1),\n",
       " ('what', 1),\n",
       " ('you', 1),\n",
       " ('up', 1),\n",
       " ('the', 2),\n",
       " ('so', 1),\n",
       " ('a', 1),\n",
       " ('diamond', 1)]"
      ]
     },
     "execution_count": 5,
     "metadata": {},
     "output_type": "execute_result"
    }
   ],
   "source": [
    "wordCounts = words.map(lambda word: (word, 1)).reduceByKey(lambda a,b:a +b)\n",
    "wordCounts.collect()"
   ]
  },
  {
   "cell_type": "code",
   "execution_count": 9,
   "metadata": {},
   "outputs": [],
   "source": [
    "wordCounts.saveAsTextFile(\"Result.txt\")"
   ]
  }
 ],
 "metadata": {
  "kernelspec": {
   "display_name": "Python 3",
   "language": "python",
   "name": "python3"
  },
  "language_info": {
   "codemirror_mode": {
    "name": "ipython",
    "version": 3
   },
   "file_extension": ".py",
   "mimetype": "text/x-python",
   "name": "python",
   "nbconvert_exporter": "python",
   "pygments_lexer": "ipython3",
   "version": "3.7.7"
  }
 },
 "nbformat": 4,
 "nbformat_minor": 4
}
